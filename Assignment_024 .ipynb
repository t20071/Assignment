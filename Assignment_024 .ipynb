{
 "cells": [
  {
   "cell_type": "markdown",
   "id": "d6d06823",
   "metadata": {},
   "source": [
    "# Assignment_024 \n",
    "**Tuesday, 29 November 2022**                \n",
    "[sharadpardhe08@gmail.com](link)"
   ]
  },
  {
   "cell_type": "markdown",
   "id": "78e0da16",
   "metadata": {},
   "source": [
    "**1. What is the relationship between def statements and lambda expressions ?          \n",
    "Answer-**               \n",
    "1. Both lambda and def produce same type of function but Their syntactical differance is that lambda is ```expression``` and def is ```statement``` for producing a function.\n",
    "1. The ```def``` defined functions do not return anything if not explicitly returned whereas the ```lambda``` function does return an object."
   ]
  },
  {
   "cell_type": "code",
   "execution_count": null,
   "id": "558ad950",
   "metadata": {},
   "outputs": [],
   "source": [
    "# using def \n",
    "def cube1(x):\n",
    "    return x**3\n",
    "cube1(3)"
   ]
  },
  {
   "cell_type": "code",
   "execution_count": null,
   "id": "48ac7b29",
   "metadata": {},
   "outputs": [],
   "source": [
    "# using lambda\n",
    "cube2 = lambda x:x**3\n",
    "cube2(3)"
   ]
  },
  {
   "cell_type": "markdown",
   "id": "e572b8a7",
   "metadata": {},
   "source": [
    "**2. What is the benefit of lambda?         \n",
    "Answer-**           \n",
    "1. A lambda expression defines a function; the advantage over the def statement is you don't need to write a name for it.\n",
    "1. sort lambda expression is easy to read.\n",
    "1. In map and filter, less line of code required."
   ]
  },
  {
   "cell_type": "markdown",
   "id": "fa6a31f1",
   "metadata": {},
   "source": [
    "**3. Compare and contrast map, filter, and reduce.             \n",
    "Answer-**"
   ]
  },
  {
   "cell_type": "code",
   "execution_count": null,
   "id": "6ec59ee5",
   "metadata": {},
   "outputs": [],
   "source": [
    "# map \n",
    "l = [1,2,3,4,5]\n",
    "list(map(lambda x:x+5,l))"
   ]
  },
  {
   "cell_type": "code",
   "execution_count": null,
   "id": "e3c0ea23",
   "metadata": {},
   "outputs": [],
   "source": [
    "# filter \n",
    "l = [4,5,6,7,7,845,6,3,14,13,42,4563,653]\n",
    "list(filter(lambda x:x%2==1,l)) # odd number filter "
   ]
  },
  {
   "cell_type": "code",
   "execution_count": null,
   "id": "c57c4d3c",
   "metadata": {},
   "outputs": [],
   "source": [
    "# reduce \n",
    "from functools import reduce\n",
    "l = [1,2,3,4,5,6,7,8,43,2,3]\n",
    "reduce(lambda i,j:i+j , l)  # sum of all the element in list "
   ]
  },
  {
   "cell_type": "code",
   "execution_count": null,
   "id": "69a52851",
   "metadata": {},
   "outputs": [],
   "source": [
    "reduce(lambda i,j:i*j , l) # product of all the element in list "
   ]
  },
  {
   "cell_type": "markdown",
   "id": "ae3911f0",
   "metadata": {},
   "source": [
    "**4. What are function annotations, and how are they used?               \n",
    "Answer-**           \n",
    "Function annotation are document standard which gives  the information how to use the code.               \n",
    "This are optional."
   ]
  },
  {
   "cell_type": "code",
   "execution_count": null,
   "id": "bcc9e889",
   "metadata": {},
   "outputs": [],
   "source": [
    "def multiply_by_10(number:int) -> int: \n",
    "        \"\"\"This function return number multiplied by 10 \"\"\"\n",
    "        return number*10"
   ]
  },
  {
   "cell_type": "markdown",
   "id": "7e2d38dd",
   "metadata": {},
   "source": [
    "##### int is annotation which define input and return value should be integer"
   ]
  },
  {
   "cell_type": "code",
   "execution_count": null,
   "id": "ef3e6aee",
   "metadata": {},
   "outputs": [],
   "source": [
    "multiply_by_10(4)"
   ]
  },
  {
   "cell_type": "markdown",
   "id": "d34771a7",
   "metadata": {},
   "source": [
    "**5. What are recursive functions, and how are they used?            \n",
    "Answer-**       \n",
    "Recurcing is the process of determining something in terms of itself.             \n",
    "example - Russian Doll.        \n",
    "\n",
    "The code runs till ceratin condition meet.       \n",
    "\n",
    "Advantages of recursion           \n",
    "1. The code is clean and elegant in a recursive function.\n",
    "1. A composite task can be broken down in simple sub task."
   ]
  },
  {
   "cell_type": "code",
   "execution_count": null,
   "id": "1e6724c2",
   "metadata": {},
   "outputs": [],
   "source": [
    "def factorial(n):\n",
    "    if n == 1:\n",
    "        return n \n",
    "    else:\n",
    "        return n * factorial(n-1)"
   ]
  },
  {
   "cell_type": "code",
   "execution_count": null,
   "id": "162e1621",
   "metadata": {},
   "outputs": [],
   "source": [
    "factorial(7)"
   ]
  },
  {
   "cell_type": "code",
   "execution_count": null,
   "id": "3d9aab13",
   "metadata": {},
   "outputs": [],
   "source": [
    "import sys\n",
    "sys.getrecursionlimit() # it will give recursin limit"
   ]
  },
  {
   "cell_type": "markdown",
   "id": "99f8a812",
   "metadata": {},
   "source": [
    "**6. What are some general design guidelines for coding functions?                 \n",
    "Answer-**\n",
    "1. Function annotation. \n",
    "``` json\n",
    "def multiply_by_10(number:int) -> int: \n",
    "        \"\"\"This function return number multiplied by 10 \"\"\"\n",
    "        return number*10\n",
    "```\n",
    "1. Use docstrings while defining the function.\n",
    "```JSON\n",
    "def exam():\n",
    "    \"\"\"This is single line docstring\"\"\"\n",
    "\n",
    "    \"\"\"This is\n",
    "    a\n",
    "    multiline comment\"\"\"\n",
    " ```\n",
    "1. Function naming convention. \n",
    "1. Use Python’s default UTF-8 or ASCII encodings and not any fancy encodings, if it is meant for international environment.\n",
    "1. Use spaces around operators and after commas, but not directly inside bracketing constructs:     \n",
    "```a = f(1, 2) + g(3, 4)```"
   ]
  },
  {
   "cell_type": "markdown",
   "id": "36ec4b36",
   "metadata": {},
   "source": [
    "**7. Name three or more ways that functions can communicate results to a caller.         \n",
    "Answer-**\n"
   ]
  },
  {
   "cell_type": "code",
   "execution_count": null,
   "id": "73bd6a1b",
   "metadata": {},
   "outputs": [],
   "source": [
    "def "
   ]
  }
 ],
 "metadata": {
  "kernelspec": {
   "display_name": "Python 3 (ipykernel)",
   "language": "python",
   "name": "python3"
  },
  "language_info": {
   "codemirror_mode": {
    "name": "ipython",
    "version": 3
   },
   "file_extension": ".py",
   "mimetype": "text/x-python",
   "name": "python",
   "nbconvert_exporter": "python",
   "pygments_lexer": "ipython3",
   "version": "3.9.12"
  }
 },
 "nbformat": 4,
 "nbformat_minor": 5
}
